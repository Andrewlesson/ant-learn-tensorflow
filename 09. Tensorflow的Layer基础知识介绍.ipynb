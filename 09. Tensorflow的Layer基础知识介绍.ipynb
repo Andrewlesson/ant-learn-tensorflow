{
 "cells": [
  {
   "cell_type": "markdown",
   "metadata": {},
   "source": [
    "## Tensorflow的Layer基础知识介绍\n",
    "\n",
    "Layer是构成Model的基本单元，简单理解成一个数据处理函数：\n",
    "* Layer可以输入一个数据tensor，经过代码处理，输出一个数据Tensor\n",
    "* Layer中有参数Weights，Model训练的目标，就是提供数据(features、label），优化Model中的Layer的Weights"
   ]
  },
  {
   "cell_type": "code",
   "execution_count": 1,
   "metadata": {},
   "outputs": [],
   "source": [
    "import tensorflow as tf\n",
    "from tensorflow.keras import layers"
   ]
  },
  {
   "cell_type": "markdown",
   "metadata": {},
   "source": [
    "### 1. Layer就像函数一样调用"
   ]
  },
  {
   "cell_type": "code",
   "execution_count": 2,
   "metadata": {},
   "outputs": [],
   "source": [
    "# Dense即全连接层\n",
    "layer = layers.Dense(3, activation='relu')"
   ]
  },
  {
   "cell_type": "code",
   "execution_count": 3,
   "metadata": {},
   "outputs": [
    {
     "data": {
      "text/plain": [
       "<tf.Tensor: shape=(5, 6), dtype=float32, numpy=\n",
       "array([[0.40407777, 0.88063526, 0.25358224, 0.97589326, 0.06460178,\n",
       "        0.0016253 ],\n",
       "       [0.80155647, 0.6136501 , 0.9499092 , 0.84700835, 0.09532583,\n",
       "        0.00904214],\n",
       "       [0.32065988, 0.76755106, 0.6785172 , 0.7970929 , 0.24687922,\n",
       "        0.7238227 ],\n",
       "       [0.6344321 , 0.66100574, 0.344859  , 0.37777865, 0.33043253,\n",
       "        0.622627  ],\n",
       "       [0.24514043, 0.7800337 , 0.9093611 , 0.83008635, 0.44269657,\n",
       "        0.04932714]], dtype=float32)>"
      ]
     },
     "execution_count": 3,
     "metadata": {},
     "output_type": "execute_result"
    }
   ],
   "source": [
    "# 输入数据为一个tensor\n",
    "inputs = tf.random.uniform(shape=(5, 6))\n",
    "inputs"
   ]
  },
  {
   "cell_type": "code",
   "execution_count": 4,
   "metadata": {},
   "outputs": [
    {
     "data": {
      "text/plain": [
       "<tf.Tensor: shape=(5, 3), dtype=float32, numpy=\n",
       "array([[0.9739331 , 0.69509286, 0.        ],\n",
       "       [0.11392275, 0.87058806, 0.        ],\n",
       "       [1.0093035 , 1.0945739 , 0.        ],\n",
       "       [0.7901717 , 0.7247521 , 0.        ],\n",
       "       [0.6692092 , 1.3004112 , 0.        ]], dtype=float32)>"
      ]
     },
     "execution_count": 4,
     "metadata": {},
     "output_type": "execute_result"
    }
   ],
   "source": [
    "# 执行函数变换，注意输入输出的形状也变化了\n",
    "layer(inputs)"
   ]
  },
  {
   "cell_type": "markdown",
   "metadata": {},
   "source": [
    "### 2. Layer本身常用的方法"
   ]
  },
  {
   "cell_type": "code",
   "execution_count": 5,
   "metadata": {},
   "outputs": [
    {
     "data": {
      "text/plain": [
       "[<tf.Variable 'dense/kernel:0' shape=(6, 3) dtype=float32, numpy=\n",
       " array([[-0.3564902 , -0.33182186,  0.04517931],\n",
       "        [ 0.81089985,  0.80152786, -0.6774622 ],\n",
       "        [-0.64842594,  0.71471524, -0.23070705],\n",
       "        [ 0.5463972 , -0.0853045 , -0.17682546],\n",
       "        [ 0.5299891 ,  0.38956988, -0.7267979 ],\n",
       "        [ 0.5178119 ,  0.10034859,  0.08581448]], dtype=float32)>,\n",
       " <tf.Variable 'dense/bias:0' shape=(3,) dtype=float32, numpy=array([0., 0., 0.], dtype=float32)>]"
      ]
     },
     "execution_count": 5,
     "metadata": {},
     "output_type": "execute_result"
    }
   ],
   "source": [
    "# 虽然Layer可以像函数一样调用处理输入得到输出，但是它本身维护了可以更新的Weights参数\n",
    "layer.weights"
   ]
  },
  {
   "cell_type": "code",
   "execution_count": 6,
   "metadata": {},
   "outputs": [
    {
     "data": {
      "text/plain": [
       "[<tf.Variable 'dense/kernel:0' shape=(6, 3) dtype=float32, numpy=\n",
       " array([[-0.3564902 , -0.33182186,  0.04517931],\n",
       "        [ 0.81089985,  0.80152786, -0.6774622 ],\n",
       "        [-0.64842594,  0.71471524, -0.23070705],\n",
       "        [ 0.5463972 , -0.0853045 , -0.17682546],\n",
       "        [ 0.5299891 ,  0.38956988, -0.7267979 ],\n",
       "        [ 0.5178119 ,  0.10034859,  0.08581448]], dtype=float32)>,\n",
       " <tf.Variable 'dense/bias:0' shape=(3,) dtype=float32, numpy=array([0., 0., 0.], dtype=float32)>]"
      ]
     },
     "execution_count": 6,
     "metadata": {},
     "output_type": "execute_result"
    }
   ],
   "source": [
    "# trainable_weights会在训练期间，通过梯度下降进行更新\n",
    "layer.trainable_weights"
   ]
  },
  {
   "cell_type": "code",
   "execution_count": 7,
   "metadata": {},
   "outputs": [
    {
     "data": {
      "text/plain": [
       "[array([[-0.3564902 , -0.33182186,  0.04517931],\n",
       "        [ 0.81089985,  0.80152786, -0.6774622 ],\n",
       "        [-0.64842594,  0.71471524, -0.23070705],\n",
       "        [ 0.5463972 , -0.0853045 , -0.17682546],\n",
       "        [ 0.5299891 ,  0.38956988, -0.7267979 ],\n",
       "        [ 0.5178119 ,  0.10034859,  0.08581448]], dtype=float32),\n",
       " array([0., 0., 0.], dtype=float32)]"
      ]
     },
     "execution_count": 7,
     "metadata": {},
     "output_type": "execute_result"
    }
   ],
   "source": [
    "# 以含有Numpy矩阵的列表形式返回层的权重\n",
    "layer.get_weights()"
   ]
  },
  {
   "cell_type": "code",
   "execution_count": 8,
   "metadata": {},
   "outputs": [
    {
     "data": {
      "text/plain": [
       "<tf.Variable 'dense/kernel:0' shape=(6, 3) dtype=float32, numpy=\n",
       "array([[-0.3564902 , -0.33182186,  0.04517931],\n",
       "       [ 0.81089985,  0.80152786, -0.6774622 ],\n",
       "       [-0.64842594,  0.71471524, -0.23070705],\n",
       "       [ 0.5463972 , -0.0853045 , -0.17682546],\n",
       "       [ 0.5299891 ,  0.38956988, -0.7267979 ],\n",
       "       [ 0.5178119 ,  0.10034859,  0.08581448]], dtype=float32)>"
      ]
     },
     "execution_count": 8,
     "metadata": {},
     "output_type": "execute_result"
    }
   ],
   "source": [
    "layer.kernel"
   ]
  },
  {
   "cell_type": "code",
   "execution_count": 9,
   "metadata": {},
   "outputs": [
    {
     "data": {
      "text/plain": [
       "<tf.Variable 'dense/bias:0' shape=(3,) dtype=float32, numpy=array([0., 0., 0.], dtype=float32)>"
      ]
     },
     "execution_count": 9,
     "metadata": {},
     "output_type": "execute_result"
    }
   ],
   "source": [
    "layer.bias"
   ]
  },
  {
   "cell_type": "code",
   "execution_count": 10,
   "metadata": {},
   "outputs": [
    {
     "data": {
      "text/plain": [
       "{'name': 'dense',\n",
       " 'trainable': True,\n",
       " 'dtype': 'float32',\n",
       " 'units': 3,\n",
       " 'activation': 'relu',\n",
       " 'use_bias': True,\n",
       " 'kernel_initializer': {'class_name': 'GlorotUniform',\n",
       "  'config': {'seed': None}},\n",
       " 'bias_initializer': {'class_name': 'Zeros', 'config': {}},\n",
       " 'kernel_regularizer': None,\n",
       " 'bias_regularizer': None,\n",
       " 'activity_regularizer': None,\n",
       " 'kernel_constraint': None,\n",
       " 'bias_constraint': None}"
      ]
     },
     "execution_count": 10,
     "metadata": {},
     "output_type": "execute_result"
    }
   ],
   "source": [
    "# 包含层配置的字典\n",
    "layer.get_config()"
   ]
  },
  {
   "cell_type": "markdown",
   "metadata": {},
   "source": [
    "### 3. 自己实现Dense全连接层"
   ]
  },
  {
   "cell_type": "markdown",
   "metadata": {},
   "source": [
    "Dense 实现以下操作： output = activation(dot(input, kernel) + bias)：\n",
    "* kernel 是由网络层创建的权值矩阵\n",
    "* bias 是其创建的偏置向量\n",
    "* activation 是按逐个元素计算的激活函数"
   ]
  },
  {
   "cell_type": "code",
   "execution_count": 11,
   "metadata": {},
   "outputs": [],
   "source": [
    "class SimpleDense(tf.keras.layers.Layer):\n",
    "    \"\"\"要实现一个自己的Layer，首先继承tf.keras.Layer\"\"\"\n",
    "    \n",
    "    def __init__(self, units=32, activation=tf.keras.activations.relu):\n",
    "        \"\"\"在这里实现跟输入数据无关的初始化，units是输出单元个数\"\"\"\n",
    "        super(SimpleDense, self).__init__()\n",
    "        self.units = units\n",
    "        self.activation = activation\n",
    "\n",
    "    def build(self, input_shape):\n",
    "        \"\"\"这里你已经知道了输入shape，做一些其它初始化\"\"\"\n",
    "        w_init = tf.random_normal_initializer()\n",
    "        self.w = tf.Variable(initial_value=w_init(shape=(input_shape[-1], self.units), dtype='float32'), trainable=True)\n",
    "        \n",
    "        b_init = tf.zeros_initializer()\n",
    "        self.b = tf.Variable(initial_value=b_init(shape=(self.units,), dtype='float32'), trainable=True)\n",
    "\n",
    "    def call(self, inputs):\n",
    "        \"\"\"在这里执行真正的计算，m*n @ n*k = m*k\"\"\"\n",
    "        return self.activation(tf.matmul(inputs, self.w) + self.b)"
   ]
  },
  {
   "cell_type": "code",
   "execution_count": 12,
   "metadata": {},
   "outputs": [],
   "source": [
    "simpleDense = SimpleDense(3)"
   ]
  },
  {
   "cell_type": "code",
   "execution_count": 13,
   "metadata": {
    "scrolled": true
   },
   "outputs": [
    {
     "data": {
      "text/plain": [
       "<tf.Tensor: shape=(5, 6), dtype=float32, numpy=\n",
       "array([[0.68861127, 0.41894233, 0.37655258, 0.5538323 , 0.6926129 ,\n",
       "        0.5943234 ],\n",
       "       [0.11853802, 0.7858939 , 0.41474915, 0.04745328, 0.7790879 ,\n",
       "        0.5131738 ],\n",
       "       [0.33588636, 0.6533185 , 0.9034835 , 0.6472776 , 0.8411925 ,\n",
       "        0.3909695 ],\n",
       "       [0.14168155, 0.6888174 , 0.10918486, 0.31171548, 0.0862596 ,\n",
       "        0.66624594],\n",
       "       [0.7140136 , 0.763389  , 0.03812623, 0.35847807, 0.03051162,\n",
       "        0.48225987]], dtype=float32)>"
      ]
     },
     "execution_count": 13,
     "metadata": {},
     "output_type": "execute_result"
    }
   ],
   "source": [
    "# 输入数据\n",
    "inputs = tf.random.uniform(shape=(5, 6))\n",
    "inputs"
   ]
  },
  {
   "cell_type": "code",
   "execution_count": 14,
   "metadata": {},
   "outputs": [
    {
     "data": {
      "text/plain": [
       "<tf.Tensor: shape=(5, 3), dtype=float32, numpy=\n",
       "array([[0.06213272, 0.00960668, 0.02161434],\n",
       "       [0.05979951, 0.        , 0.03843728],\n",
       "       [0.04832684, 0.05169922, 0.08261046],\n",
       "       [0.07751171, 0.        , 0.00511048],\n",
       "       [0.05392166, 0.        , 0.        ]], dtype=float32)>"
      ]
     },
     "execution_count": 14,
     "metadata": {},
     "output_type": "execute_result"
    }
   ],
   "source": [
    "simpleDense(inputs)"
   ]
  },
  {
   "cell_type": "code",
   "execution_count": null,
   "metadata": {},
   "outputs": [],
   "source": []
  }
 ],
 "metadata": {
  "kernelspec": {
   "display_name": "Python 3",
   "language": "python",
   "name": "python3"
  },
  "language_info": {
   "codemirror_mode": {
    "name": "ipython",
    "version": 3
   },
   "file_extension": ".py",
   "mimetype": "text/x-python",
   "name": "python",
   "nbconvert_exporter": "python",
   "pygments_lexer": "ipython3",
   "version": "3.7.7"
  }
 },
 "nbformat": 4,
 "nbformat_minor": 4
}
