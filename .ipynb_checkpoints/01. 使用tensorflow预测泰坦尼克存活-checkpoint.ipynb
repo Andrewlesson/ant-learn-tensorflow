{
 "cells": [
  {
   "cell_type": "markdown",
   "metadata": {},
   "source": [
    "## 使用tensorflow预测泰坦尼克存活\n",
    "\n",
    "机器学习的几大框架：\n",
    "* sklearn：传统浅层机器学习，单机版训练，容易学习使用；\n",
    "* spark-ml：分布式浅层机器学习，分布式训练，难以在线部署；\n",
    "* xgboost：传统浅层机器学习的巅峰，单机+分布式部署，容易在线服务；\n",
    "* tensorflow：深度学习最流行的框架，单机+分布式部署，能够分布式在线部署；"
   ]
  },
  {
   "cell_type": "markdown",
   "metadata": {
    "colab_type": "text",
    "id": "fgZ9gjmPfSnK"
   },
   "source": [
    "### 导入所需的包"
   ]
  },
  {
   "cell_type": "code",
   "execution_count": 1,
   "metadata": {
    "colab": {},
    "colab_type": "code",
    "id": "baYFZMW_bJHh"
   },
   "outputs": [],
   "source": [
    "import functools\n",
    "\n",
    "import numpy as np\n",
    "np.set_printoptions(precision=3, suppress=True)\n",
    "\n",
    "import tensorflow as tf"
   ]
  },
  {
   "cell_type": "code",
   "execution_count": 2,
   "metadata": {
    "colab": {},
    "colab_type": "code",
    "id": "Ncf5t6tgL5ZI"
   },
   "outputs": [],
   "source": [
    "train_file_path = \"./datas/titanic/train.csv\"\n",
    "test_file_path = \"./datas/titanic/test.csv\""
   ]
  },
  {
   "cell_type": "markdown",
   "metadata": {
    "colab_type": "text",
    "id": "Wuqj601Qw0Ml"
   },
   "source": [
    "### 加载数据"
   ]
  },
  {
   "cell_type": "code",
   "execution_count": 3,
   "metadata": {
    "colab": {},
    "colab_type": "code",
    "id": "54Dv7mCrf9Yw"
   },
   "outputs": [
    {
     "name": "stdout",
     "output_type": "stream",
     "text": [
      "survived,sex,age,n_siblings_spouses,parch,fare,class,deck,embark_town,alone\r\n",
      "0,male,22.0,1,0,7.25,Third,unknown,Southampton,n\r\n",
      "1,female,38.0,1,0,71.2833,First,C,Cherbourg,n\r\n",
      "1,female,26.0,0,0,7.925,Third,unknown,Southampton,y\r\n",
      "1,female,35.0,1,0,53.1,First,C,Southampton,n\r\n",
      "0,male,28.0,0,0,8.4583,Third,unknown,Queenstown,y\r\n",
      "0,male,2.0,3,1,21.075,Third,unknown,Southampton,n\r\n",
      "1,female,27.0,0,2,11.1333,Third,unknown,Southampton,n\r\n",
      "1,female,14.0,1,0,30.0708,Second,unknown,Cherbourg,n\r\n",
      "1,female,4.0,1,1,16.7,Third,G,Southampton,n\r\n"
     ]
    }
   ],
   "source": [
    "!head {train_file_path}"
   ]
  },
  {
   "cell_type": "code",
   "execution_count": 4,
   "metadata": {
    "colab": {},
    "colab_type": "code",
    "id": "iXROZm5f3V4E"
   },
   "outputs": [],
   "source": [
    "# 标签列\n",
    "LABEL_COLUMN = 'survived'\n",
    "LABELS = [0, 1]"
   ]
  },
  {
   "cell_type": "code",
   "execution_count": 5,
   "metadata": {
    "colab": {},
    "colab_type": "code",
    "id": "Co7UJ7gpNADC"
   },
   "outputs": [],
   "source": [
    "def get_dataset(file_path):\n",
    "    \"\"\"\n",
    "    构建tensorflow的数据集格式\n",
    "    \"\"\"\n",
    "    dataset = tf.data.experimental.make_csv_dataset(\n",
    "      file_path,\n",
    "      batch_size=12,\n",
    "      label_name=LABEL_COLUMN,\n",
    "      na_value=\"?\",\n",
    "      num_epochs=1,\n",
    "      ignore_errors=True)\n",
    "    return dataset\n",
    "\n",
    "# 将train和test的csv，分别加载成tensorflow的对象的格式\n",
    "raw_train_data = get_dataset(train_file_path)\n",
    "raw_test_data = get_dataset(test_file_path)"
   ]
  },
  {
   "cell_type": "code",
   "execution_count": 6,
   "metadata": {
    "colab": {},
    "colab_type": "code",
    "id": "qWtFYtwXIeuj"
   },
   "outputs": [
    {
     "name": "stdout",
     "output_type": "stream",
     "text": [
      "EXAMPLES: \n",
      " OrderedDict([('sex', <tf.Tensor: shape=(12,), dtype=string, numpy=\n",
      "array([b'female', b'male', b'female', b'female', b'male', b'female',\n",
      "       b'male', b'male', b'male', b'female', b'male', b'female'],\n",
      "      dtype=object)>), ('age', <tf.Tensor: shape=(12,), dtype=float32, numpy=\n",
      "array([27., 36., 40., 28., 28., 22., 25., 15., 28., 52., 25., 41.],\n",
      "      dtype=float32)>), ('n_siblings_spouses', <tf.Tensor: shape=(12,), dtype=int32, numpy=array([0, 0, 1, 1, 0, 0, 0, 1, 0, 1, 0, 0], dtype=int32)>), ('parch', <tf.Tensor: shape=(12,), dtype=int32, numpy=array([0, 0, 0, 0, 0, 0, 0, 1, 0, 0, 0, 2], dtype=int32)>), ('fare', <tf.Tensor: shape=(12,), dtype=float32, numpy=\n",
      "array([  7.925,  12.875,   9.475,  14.454,   8.458, 151.55 ,  13.   ,\n",
      "         7.229,  13.   ,  78.267,  13.   ,  20.212], dtype=float32)>), ('class', <tf.Tensor: shape=(12,), dtype=string, numpy=\n",
      "array([b'Third', b'Second', b'Third', b'Third', b'Third', b'First',\n",
      "       b'Second', b'Third', b'Second', b'First', b'Second', b'Third'],\n",
      "      dtype=object)>), ('deck', <tf.Tensor: shape=(12,), dtype=string, numpy=\n",
      "array([b'unknown', b'D', b'unknown', b'unknown', b'unknown', b'unknown',\n",
      "       b'unknown', b'unknown', b'unknown', b'D', b'unknown', b'unknown'],\n",
      "      dtype=object)>), ('embark_town', <tf.Tensor: shape=(12,), dtype=string, numpy=\n",
      "array([b'Southampton', b'Cherbourg', b'Southampton', b'Cherbourg',\n",
      "       b'Queenstown', b'Southampton', b'Southampton', b'Cherbourg',\n",
      "       b'Southampton', b'Cherbourg', b'Southampton', b'Southampton'],\n",
      "      dtype=object)>), ('alone', <tf.Tensor: shape=(12,), dtype=string, numpy=\n",
      "array([b'y', b'y', b'n', b'n', b'y', b'y', b'y', b'n', b'y', b'n', b'y',\n",
      "       b'n'], dtype=object)>)]) \n",
      "\n",
      "LABELS: \n",
      " tf.Tensor([1 0 0 0 0 1 0 0 1 1 0 0], shape=(12,), dtype=int32)\n"
     ]
    }
   ],
   "source": [
    "# 测试一个批次\n",
    "examples, labels = next(iter(raw_train_data))\n",
    "print(\"EXAMPLES: \\n\", examples, \"\\n\")\n",
    "print(\"LABELS: \\n\", labels)"
   ]
  },
  {
   "cell_type": "markdown",
   "metadata": {
    "colab_type": "text",
    "id": "9cryz31lxs3e"
   },
   "source": [
    "### 数据预处理\n",
    "\n",
    "机器学习模型的输入，只能是数字"
   ]
  },
  {
   "cell_type": "markdown",
   "metadata": {
    "colab_type": "text",
    "id": "tSyrkSQwYHKi"
   },
   "source": [
    "#### 分类数据"
   ]
  },
  {
   "cell_type": "code",
   "execution_count": 7,
   "metadata": {
    "colab": {},
    "colab_type": "code",
    "id": "mWDniduKMw-C"
   },
   "outputs": [],
   "source": [
    "# 分类数据的码表\n",
    "CATEGORIES = {\n",
    "    'sex': ['male', 'female'],\n",
    "    'class' : ['First', 'Second', 'Third'],\n",
    "    'deck' : ['A', 'B', 'C', 'D', 'E', 'F', 'G', 'H', 'I', 'J'],\n",
    "    'embark_town' : ['Cherbourg', 'Southhampton', 'Queenstown'],\n",
    "    'alone' : ['y', 'n']\n",
    "}"
   ]
  },
  {
   "cell_type": "code",
   "execution_count": 8,
   "metadata": {
    "colab": {},
    "colab_type": "code",
    "id": "kkxLdrsLwHPT"
   },
   "outputs": [],
   "source": [
    "categorical_columns = []\n",
    "for feature, vocab in CATEGORIES.items():\n",
    "    # 提供码表的特征输入\n",
    "    cat_col = tf.feature_column.categorical_column_with_vocabulary_list(\n",
    "        key=feature, vocabulary_list=vocab)\n",
    "    categorical_columns.append(tf.feature_column.indicator_column(cat_col))"
   ]
  },
  {
   "cell_type": "code",
   "execution_count": 9,
   "metadata": {
    "colab": {},
    "colab_type": "code",
    "id": "H18CxpHY_Nma"
   },
   "outputs": [
    {
     "data": {
      "text/plain": [
       "[IndicatorColumn(categorical_column=VocabularyListCategoricalColumn(key='sex', vocabulary_list=('male', 'female'), dtype=tf.string, default_value=-1, num_oov_buckets=0)),\n",
       " IndicatorColumn(categorical_column=VocabularyListCategoricalColumn(key='class', vocabulary_list=('First', 'Second', 'Third'), dtype=tf.string, default_value=-1, num_oov_buckets=0)),\n",
       " IndicatorColumn(categorical_column=VocabularyListCategoricalColumn(key='deck', vocabulary_list=('A', 'B', 'C', 'D', 'E', 'F', 'G', 'H', 'I', 'J'), dtype=tf.string, default_value=-1, num_oov_buckets=0)),\n",
       " IndicatorColumn(categorical_column=VocabularyListCategoricalColumn(key='embark_town', vocabulary_list=('Cherbourg', 'Southhampton', 'Queenstown'), dtype=tf.string, default_value=-1, num_oov_buckets=0)),\n",
       " IndicatorColumn(categorical_column=VocabularyListCategoricalColumn(key='alone', vocabulary_list=('y', 'n'), dtype=tf.string, default_value=-1, num_oov_buckets=0))]"
      ]
     },
     "execution_count": 9,
     "metadata": {},
     "output_type": "execute_result"
    }
   ],
   "source": [
    "# 分类特征列\n",
    "categorical_columns"
   ]
  },
  {
   "cell_type": "markdown",
   "metadata": {
    "colab_type": "text",
    "id": "9AsbaFmCeJtF"
   },
   "source": [
    "#### 连续数据"
   ]
  },
  {
   "cell_type": "code",
   "execution_count": 10,
   "metadata": {
    "colab": {},
    "colab_type": "code",
    "id": "REKqO_xHPNx0"
   },
   "outputs": [],
   "source": [
    "def process_continuous_data(mean, data):\n",
    "    # 标准化数据的函数\n",
    "    data = tf.cast(data, tf.float32) * 1/(2*mean)\n",
    "    return tf.reshape(data, [-1, 1])"
   ]
  },
  {
   "cell_type": "code",
   "execution_count": 11,
   "metadata": {
    "colab": {},
    "colab_type": "code",
    "id": "WKT1ASWpwH46"
   },
   "outputs": [],
   "source": [
    "# 提前算好的均值\n",
    "MEANS = {\n",
    "    'age' : 29.631308,\n",
    "    'n_siblings_spouses' : 0.545455,\n",
    "    'parch' : 0.379585,\n",
    "    'fare' : 34.385399\n",
    "}\n",
    "\n",
    "numerical_columns = []\n",
    "\n",
    "for feature in MEANS.keys():\n",
    "    num_col = tf.feature_column.numeric_column(\n",
    "        feature, normalizer_fn=functools.partial(process_continuous_data, MEANS[feature]))\n",
    "    numerical_columns.append(num_col)"
   ]
  },
  {
   "cell_type": "code",
   "execution_count": 12,
   "metadata": {
    "colab": {},
    "colab_type": "code",
    "id": "Bw0I35xRS57V"
   },
   "outputs": [
    {
     "data": {
      "text/plain": [
       "[NumericColumn(key='age', shape=(1,), default_value=None, dtype=tf.float32, normalizer_fn=functools.partial(<function process_continuous_data at 0x635bd74d0>, 29.631308)),\n",
       " NumericColumn(key='n_siblings_spouses', shape=(1,), default_value=None, dtype=tf.float32, normalizer_fn=functools.partial(<function process_continuous_data at 0x635bd74d0>, 0.545455)),\n",
       " NumericColumn(key='parch', shape=(1,), default_value=None, dtype=tf.float32, normalizer_fn=functools.partial(<function process_continuous_data at 0x635bd74d0>, 0.379585)),\n",
       " NumericColumn(key='fare', shape=(1,), default_value=None, dtype=tf.float32, normalizer_fn=functools.partial(<function process_continuous_data at 0x635bd74d0>, 34.385399))]"
      ]
     },
     "execution_count": 12,
     "metadata": {},
     "output_type": "execute_result"
    }
   ],
   "source": [
    "# 连续特征列的列表\n",
    "numerical_columns"
   ]
  },
  {
   "cell_type": "markdown",
   "metadata": {
    "colab_type": "text",
    "id": "kPWkC4_1l3IG"
   },
   "source": [
    "#### 创建输入层layer"
   ]
  },
  {
   "cell_type": "markdown",
   "metadata": {
    "colab_type": "text",
    "id": "R3QAjo1qD4p9"
   },
   "source": [
    "将这两个特征列的集合相加，并且传给 `tf.keras.layers.DenseFeatures` 从而创建一个进行预处理的输入层。"
   ]
  },
  {
   "cell_type": "code",
   "execution_count": 13,
   "metadata": {
    "colab": {},
    "colab_type": "code",
    "id": "3-OYK7GnaH0r"
   },
   "outputs": [],
   "source": [
    "preprocessing_layer = tf.keras.layers.DenseFeatures(\n",
    "    categorical_columns+numerical_columns)"
   ]
  },
  {
   "cell_type": "markdown",
   "metadata": {
    "colab_type": "text",
    "id": "DlF_omQqtnOP"
   },
   "source": [
    "### 构建模型"
   ]
  },
  {
   "cell_type": "markdown",
   "metadata": {
    "colab_type": "text",
    "id": "lQoFh16LxtT_"
   },
   "source": [
    "从 `preprocessing_layer` 开始构建 `tf.keras.Sequential`。"
   ]
  },
  {
   "cell_type": "code",
   "execution_count": 14,
   "metadata": {
    "colab": {},
    "colab_type": "code",
    "id": "3mSGsHTFPvFo"
   },
   "outputs": [],
   "source": [
    "# 构建一个DNN模型\n",
    "model = tf.keras.Sequential([\n",
    "    preprocessing_layer,\n",
    "    tf.keras.layers.Dense(64, activation='relu'),\n",
    "    tf.keras.layers.Dense(32, activation='relu'),\n",
    "    tf.keras.layers.Dense(16, activation='relu'),\n",
    "    tf.keras.layers.Dense(1, activation='sigmoid'),\n",
    "])"
   ]
  },
  {
   "cell_type": "code",
   "execution_count": 15,
   "metadata": {},
   "outputs": [],
   "source": [
    "model.compile(\n",
    "    loss='binary_crossentropy',\n",
    "    optimizer='adam',\n",
    "    metrics=['accuracy'])"
   ]
  },
  {
   "cell_type": "markdown",
   "metadata": {
    "colab_type": "text",
    "id": "hPdtI2ie0lEZ"
   },
   "source": [
    "### 训练、评估和预测"
   ]
  },
  {
   "cell_type": "markdown",
   "metadata": {
    "colab_type": "text",
    "id": "8gvw1RE9zXkD"
   },
   "source": [
    "现在可以实例化和训练模型。"
   ]
  },
  {
   "cell_type": "code",
   "execution_count": 16,
   "metadata": {
    "colab": {},
    "colab_type": "code",
    "id": "sW-4XlLeEQ2B"
   },
   "outputs": [],
   "source": [
    "train_data = raw_train_data.shuffle(500)\n",
    "test_data = raw_test_data"
   ]
  },
  {
   "cell_type": "code",
   "execution_count": 17,
   "metadata": {
    "colab": {},
    "colab_type": "code",
    "id": "Q_nm28IzNDTO"
   },
   "outputs": [
    {
     "name": "stdout",
     "output_type": "stream",
     "text": [
      "WARNING:tensorflow:From /Users/peishuaishuai/anaconda3/lib/python3.7/site-packages/tensorflow_core/python/feature_column/feature_column_v2.py:4267: IndicatorColumn._variable_shape (from tensorflow.python.feature_column.feature_column_v2) is deprecated and will be removed in a future version.\n",
      "Instructions for updating:\n",
      "The old _FeatureColumn APIs are being deprecated. Please use the new FeatureColumn APIs instead.\n",
      "WARNING:tensorflow:From /Users/peishuaishuai/anaconda3/lib/python3.7/site-packages/tensorflow_core/python/feature_column/feature_column_v2.py:4322: VocabularyListCategoricalColumn._num_buckets (from tensorflow.python.feature_column.feature_column_v2) is deprecated and will be removed in a future version.\n",
      "Instructions for updating:\n",
      "The old _FeatureColumn APIs are being deprecated. Please use the new FeatureColumn APIs instead.\n",
      "Epoch 1/20\n",
      "53/53 [==============================] - 1s 14ms/step - loss: 0.5911 - accuracy: 0.7352\n",
      "Epoch 2/20\n",
      "53/53 [==============================] - 0s 2ms/step - loss: 0.4653 - accuracy: 0.8118\n",
      "Epoch 3/20\n",
      "53/53 [==============================] - 0s 2ms/step - loss: 0.4288 - accuracy: 0.8150\n",
      "Epoch 4/20\n",
      "53/53 [==============================] - 0s 2ms/step - loss: 0.4258 - accuracy: 0.8214\n",
      "Epoch 5/20\n",
      "53/53 [==============================] - 0s 2ms/step - loss: 0.4102 - accuracy: 0.8214\n",
      "Epoch 6/20\n",
      "53/53 [==============================] - 0s 2ms/step - loss: 0.4106 - accuracy: 0.8214\n",
      "Epoch 7/20\n",
      "53/53 [==============================] - 0s 2ms/step - loss: 0.4040 - accuracy: 0.8325\n",
      "Epoch 8/20\n",
      "53/53 [==============================] - 0s 2ms/step - loss: 0.3904 - accuracy: 0.8262\n",
      "Epoch 9/20\n",
      "53/53 [==============================] - 0s 2ms/step - loss: 0.3976 - accuracy: 0.8262\n",
      "Epoch 10/20\n",
      "53/53 [==============================] - 0s 2ms/step - loss: 0.4013 - accuracy: 0.8293\n",
      "Epoch 11/20\n",
      "53/53 [==============================] - 0s 2ms/step - loss: 0.3870 - accuracy: 0.8437\n",
      "Epoch 12/20\n",
      "53/53 [==============================] - 0s 2ms/step - loss: 0.3859 - accuracy: 0.8325\n",
      "Epoch 13/20\n",
      "53/53 [==============================] - 0s 2ms/step - loss: 0.3718 - accuracy: 0.8357\n",
      "Epoch 14/20\n",
      "53/53 [==============================] - 0s 2ms/step - loss: 0.3808 - accuracy: 0.8389\n",
      "Epoch 15/20\n",
      "53/53 [==============================] - 0s 2ms/step - loss: 0.3629 - accuracy: 0.8405\n",
      "Epoch 16/20\n",
      "53/53 [==============================] - 0s 2ms/step - loss: 0.3661 - accuracy: 0.8357\n",
      "Epoch 17/20\n",
      "53/53 [==============================] - 0s 2ms/step - loss: 0.3588 - accuracy: 0.8373\n",
      "Epoch 18/20\n",
      "53/53 [==============================] - 0s 2ms/step - loss: 0.3562 - accuracy: 0.8517\n",
      "Epoch 19/20\n",
      "53/53 [==============================] - 0s 2ms/step - loss: 0.3492 - accuracy: 0.8501\n",
      "Epoch 20/20\n",
      "53/53 [==============================] - 0s 2ms/step - loss: 0.3491 - accuracy: 0.8453\n"
     ]
    },
    {
     "data": {
      "text/plain": [
       "<tensorflow.python.keras.callbacks.History at 0x636092650>"
      ]
     },
     "execution_count": 17,
     "metadata": {},
     "output_type": "execute_result"
    }
   ],
   "source": [
    "model.fit(train_data, epochs=20)"
   ]
  },
  {
   "cell_type": "code",
   "execution_count": 18,
   "metadata": {},
   "outputs": [
    {
     "name": "stdout",
     "output_type": "stream",
     "text": [
      "Model: \"sequential\"\n",
      "_________________________________________________________________\n",
      "Layer (type)                 Output Shape              Param #   \n",
      "=================================================================\n",
      "dense_features (DenseFeature multiple                  0         \n",
      "_________________________________________________________________\n",
      "dense (Dense)                multiple                  1600      \n",
      "_________________________________________________________________\n",
      "dense_1 (Dense)              multiple                  2080      \n",
      "_________________________________________________________________\n",
      "dense_2 (Dense)              multiple                  528       \n",
      "_________________________________________________________________\n",
      "dense_3 (Dense)              multiple                  17        \n",
      "=================================================================\n",
      "Total params: 4,225\n",
      "Trainable params: 4,225\n",
      "Non-trainable params: 0\n",
      "_________________________________________________________________\n"
     ]
    }
   ],
   "source": [
    "model.summary()"
   ]
  },
  {
   "cell_type": "markdown",
   "metadata": {
    "colab_type": "text",
    "id": "QyDMgBurzqQo"
   },
   "source": [
    "当模型训练完成的时候，你可以在测试集 `test_data` 上检查准确性。"
   ]
  },
  {
   "cell_type": "code",
   "execution_count": 19,
   "metadata": {
    "colab": {},
    "colab_type": "code",
    "id": "eB3R3ViVONOp"
   },
   "outputs": [
    {
     "name": "stdout",
     "output_type": "stream",
     "text": [
      "     22/Unknown - 0s 11ms/step - loss: 0.4355 - accuracy: 0.8182\n",
      "Test Loss 0.4355143058029088, Test Accuracy 0.8181818127632141\n"
     ]
    }
   ],
   "source": [
    "test_loss, test_accuracy = model.evaluate(test_data)\n",
    "\n",
    "print()\n",
    "print(f'Test Loss {test_loss}, Test Accuracy {test_accuracy}')"
   ]
  },
  {
   "cell_type": "markdown",
   "metadata": {
    "colab_type": "text",
    "id": "sTrn_pD90gdJ"
   },
   "source": [
    "使用 `tf.keras.Model.predict` 推断一个批次或多个批次的标签。"
   ]
  },
  {
   "cell_type": "code",
   "execution_count": 20,
   "metadata": {
    "colab": {},
    "colab_type": "code",
    "id": "Qwcx74F3ojqe",
    "scrolled": true
   },
   "outputs": [
    {
     "data": {
      "text/plain": [
       "array([[0.06 ],\n",
       "       [0.078],\n",
       "       [0.105],\n",
       "       [0.415],\n",
       "       [0.092],\n",
       "       [0.984],\n",
       "       [0.632],\n",
       "       [0.994],\n",
       "       [0.107],\n",
       "       [0.104]], dtype=float32)"
      ]
     },
     "execution_count": 20,
     "metadata": {},
     "output_type": "execute_result"
    }
   ],
   "source": [
    "predictions = model.predict(test_data)\n",
    "predictions[:10]"
   ]
  },
  {
   "cell_type": "code",
   "execution_count": 21,
   "metadata": {},
   "outputs": [
    {
     "data": {
      "text/plain": [
       "<tf.Tensor: shape=(12,), dtype=int32, numpy=array([1, 1, 0, 0, 0, 0, 1, 0, 0, 1, 1, 1], dtype=int32)>"
      ]
     },
     "execution_count": 21,
     "metadata": {},
     "output_type": "execute_result"
    }
   ],
   "source": [
    "list(test_data)[0][1]"
   ]
  },
  {
   "cell_type": "code",
   "execution_count": 22,
   "metadata": {},
   "outputs": [
    {
     "name": "stdout",
     "output_type": "stream",
     "text": [
      "预测活着的概率: 0.059932298958301544 | 实际值: SURVIVED\n",
      "预测活着的概率: 0.07814104855060577 | 实际值: DIED\n",
      "预测活着的概率: 0.104800745844841 | 实际值: DIED\n",
      "预测活着的概率: 0.4146076440811157 | 实际值: DIED\n",
      "预测活着的概率: 0.09193415194749832 | 实际值: SURVIVED\n",
      "预测活着的概率: 0.9837656617164612 | 实际值: DIED\n",
      "预测活着的概率: 0.6324523687362671 | 实际值: DIED\n",
      "预测活着的概率: 0.9942212104797363 | 实际值: DIED\n",
      "预测活着的概率: 0.10710933059453964 | 实际值: SURVIVED\n",
      "预测活着的概率: 0.1043289452791214 | 实际值: DIED\n"
     ]
    }
   ],
   "source": [
    "# 显示部分结果\n",
    "for prediction, survived in zip(predictions[:10], list(test_data)[0][1][:10]):\n",
    "    is_survived = \"SURVIVED\" if bool(survived) else \"DIED\"\n",
    "    print(f\"预测活着的概率: {prediction[0]} | 实际值: {is_survived}\")"
   ]
  },
  {
   "cell_type": "code",
   "execution_count": null,
   "metadata": {},
   "outputs": [],
   "source": []
  }
 ],
 "metadata": {
  "colab": {
   "collapsed_sections": [],
   "name": "csv.ipynb",
   "private_outputs": true,
   "provenance": [],
   "toc_visible": true
  },
  "kernelspec": {
   "display_name": "Python 3",
   "language": "python",
   "name": "python3"
  },
  "language_info": {
   "codemirror_mode": {
    "name": "ipython",
    "version": 3
   },
   "file_extension": ".py",
   "mimetype": "text/x-python",
   "name": "python",
   "nbconvert_exporter": "python",
   "pygments_lexer": "ipython3",
   "version": "3.7.6"
  }
 },
 "nbformat": 4,
 "nbformat_minor": 1
}
