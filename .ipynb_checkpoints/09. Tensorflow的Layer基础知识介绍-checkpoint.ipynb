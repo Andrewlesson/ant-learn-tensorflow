{
 "cells": [
  {
   "cell_type": "markdown",
   "metadata": {},
   "source": [
    "## Tensorflow的Layer基础知识介绍\n",
    "\n",
    "Layer是构成Model的基本单元，简单理解成一个数据处理函数：\n",
    "* Layer可以输入一个数据tensor，经过代码处理，输出一个数据Tensor\n",
    "* Layer中有参数Weights，Model训练的目标，就是提供数据(features、label），优化Model中的Layer的Weights"
   ]
  },
  {
   "cell_type": "code",
   "execution_count": 32,
   "metadata": {},
   "outputs": [],
   "source": [
    "import tensorflow as tf\n",
    "from tensorflow.keras import layers"
   ]
  },
  {
   "cell_type": "markdown",
   "metadata": {},
   "source": [
    "### 1. Layer就像函数一样调用"
   ]
  },
  {
   "cell_type": "code",
   "execution_count": 34,
   "metadata": {},
   "outputs": [],
   "source": [
    "# Dense即全连接层\n",
    "layer = layers.Dense(3, activation='relu')"
   ]
  },
  {
   "cell_type": "code",
   "execution_count": 35,
   "metadata": {},
   "outputs": [
    {
     "data": {
      "text/plain": [
       "<tf.Tensor: shape=(5, 6), dtype=float32, numpy=\n",
       "array([[0.7440103 , 0.56490695, 0.1218214 , 0.0954535 , 0.42775953,\n",
       "        0.27440894],\n",
       "       [0.6337224 , 0.6507931 , 0.82639575, 0.68117523, 0.16478431,\n",
       "        0.84065247],\n",
       "       [0.5799992 , 0.5868341 , 0.06510711, 0.6834388 , 0.70521903,\n",
       "        0.30650628],\n",
       "       [0.71013   , 0.55766165, 0.84056807, 0.7034733 , 0.93228745,\n",
       "        0.5829799 ],\n",
       "       [0.46836853, 0.3860109 , 0.5898348 , 0.8921313 , 0.43075395,\n",
       "        0.11638713]], dtype=float32)>"
      ]
     },
     "execution_count": 35,
     "metadata": {},
     "output_type": "execute_result"
    }
   ],
   "source": [
    "# 输入数据为一个tensor\n",
    "inputs = tf.random.uniform(shape=(5, 6))\n",
    "inputs"
   ]
  },
  {
   "cell_type": "code",
   "execution_count": 36,
   "metadata": {},
   "outputs": [
    {
     "data": {
      "text/plain": [
       "<tf.Tensor: shape=(5, 3), dtype=float32, numpy=\n",
       "array([[0.06866707, 0.29972038, 0.44199058],\n",
       "       [0.        , 0.0511381 , 0.92320603],\n",
       "       [0.35321528, 0.        , 0.5539642 ],\n",
       "       [0.        , 0.09393235, 0.9143685 ],\n",
       "       [0.        , 0.        , 1.0453147 ]], dtype=float32)>"
      ]
     },
     "execution_count": 36,
     "metadata": {},
     "output_type": "execute_result"
    }
   ],
   "source": [
    "# 执行函数变换，注意输入输出的形状也变化了\n",
    "layer(inputs)"
   ]
  },
  {
   "cell_type": "markdown",
   "metadata": {},
   "source": [
    "### 2. Layer本身常用的方法"
   ]
  },
  {
   "cell_type": "code",
   "execution_count": 37,
   "metadata": {},
   "outputs": [
    {
     "data": {
      "text/plain": [
       "[<tf.Variable 'dense_2/kernel:0' shape=(6, 3) dtype=float32, numpy=\n",
       " array([[-0.09669179,  0.64965427,  0.80013597],\n",
       "        [ 0.13066387, -0.46485424, -0.08765316],\n",
       "        [-0.679668  , -0.11140537,  0.5371684 ],\n",
       "        [ 0.3249302 , -0.42514762,  0.61792946],\n",
       "        [ 0.09829098,  0.07349336, -0.26842397],\n",
       "        [ 0.27889514,  0.37056446, -0.41326705]], dtype=float32)>,\n",
       " <tf.Variable 'dense_2/bias:0' shape=(3,) dtype=float32, numpy=array([0., 0., 0.], dtype=float32)>]"
      ]
     },
     "execution_count": 37,
     "metadata": {},
     "output_type": "execute_result"
    }
   ],
   "source": [
    "# 虽然Layer可以像函数一样调用处理输入得到输出，但是它本身维护了可以更新的Weights参数\n",
    "layer.weights"
   ]
  },
  {
   "cell_type": "code",
   "execution_count": 38,
   "metadata": {},
   "outputs": [
    {
     "data": {
      "text/plain": [
       "[<tf.Variable 'dense_2/kernel:0' shape=(6, 3) dtype=float32, numpy=\n",
       " array([[-0.09669179,  0.64965427,  0.80013597],\n",
       "        [ 0.13066387, -0.46485424, -0.08765316],\n",
       "        [-0.679668  , -0.11140537,  0.5371684 ],\n",
       "        [ 0.3249302 , -0.42514762,  0.61792946],\n",
       "        [ 0.09829098,  0.07349336, -0.26842397],\n",
       "        [ 0.27889514,  0.37056446, -0.41326705]], dtype=float32)>,\n",
       " <tf.Variable 'dense_2/bias:0' shape=(3,) dtype=float32, numpy=array([0., 0., 0.], dtype=float32)>]"
      ]
     },
     "execution_count": 38,
     "metadata": {},
     "output_type": "execute_result"
    }
   ],
   "source": [
    "# trainable_weights会在训练期间，通过梯度下降进行更新\n",
    "layer.trainable_weights"
   ]
  },
  {
   "cell_type": "code",
   "execution_count": 39,
   "metadata": {},
   "outputs": [
    {
     "data": {
      "text/plain": [
       "[array([[-0.09669179,  0.64965427,  0.80013597],\n",
       "        [ 0.13066387, -0.46485424, -0.08765316],\n",
       "        [-0.679668  , -0.11140537,  0.5371684 ],\n",
       "        [ 0.3249302 , -0.42514762,  0.61792946],\n",
       "        [ 0.09829098,  0.07349336, -0.26842397],\n",
       "        [ 0.27889514,  0.37056446, -0.41326705]], dtype=float32),\n",
       " array([0., 0., 0.], dtype=float32)]"
      ]
     },
     "execution_count": 39,
     "metadata": {},
     "output_type": "execute_result"
    }
   ],
   "source": [
    "# 以含有Numpy矩阵的列表形式返回层的权重\n",
    "layer.get_weights()"
   ]
  },
  {
   "cell_type": "code",
   "execution_count": 40,
   "metadata": {},
   "outputs": [
    {
     "data": {
      "text/plain": [
       "<tf.Variable 'dense_2/kernel:0' shape=(6, 3) dtype=float32, numpy=\n",
       "array([[-0.09669179,  0.64965427,  0.80013597],\n",
       "       [ 0.13066387, -0.46485424, -0.08765316],\n",
       "       [-0.679668  , -0.11140537,  0.5371684 ],\n",
       "       [ 0.3249302 , -0.42514762,  0.61792946],\n",
       "       [ 0.09829098,  0.07349336, -0.26842397],\n",
       "       [ 0.27889514,  0.37056446, -0.41326705]], dtype=float32)>"
      ]
     },
     "execution_count": 40,
     "metadata": {},
     "output_type": "execute_result"
    }
   ],
   "source": [
    "layer.kernel"
   ]
  },
  {
   "cell_type": "code",
   "execution_count": 41,
   "metadata": {},
   "outputs": [
    {
     "data": {
      "text/plain": [
       "<tf.Variable 'dense_2/bias:0' shape=(3,) dtype=float32, numpy=array([0., 0., 0.], dtype=float32)>"
      ]
     },
     "execution_count": 41,
     "metadata": {},
     "output_type": "execute_result"
    }
   ],
   "source": [
    "layer.bias"
   ]
  },
  {
   "cell_type": "code",
   "execution_count": 42,
   "metadata": {},
   "outputs": [
    {
     "data": {
      "text/plain": [
       "{'name': 'dense_2',\n",
       " 'trainable': True,\n",
       " 'dtype': 'float32',\n",
       " 'units': 3,\n",
       " 'activation': 'relu',\n",
       " 'use_bias': True,\n",
       " 'kernel_initializer': {'class_name': 'GlorotUniform',\n",
       "  'config': {'seed': None}},\n",
       " 'bias_initializer': {'class_name': 'Zeros', 'config': {}},\n",
       " 'kernel_regularizer': None,\n",
       " 'bias_regularizer': None,\n",
       " 'activity_regularizer': None,\n",
       " 'kernel_constraint': None,\n",
       " 'bias_constraint': None}"
      ]
     },
     "execution_count": 42,
     "metadata": {},
     "output_type": "execute_result"
    }
   ],
   "source": [
    "# 包含层配置的字典\n",
    "layer.get_config()"
   ]
  },
  {
   "cell_type": "markdown",
   "metadata": {},
   "source": [
    "### 3. 自己实现Dense全连接层"
   ]
  },
  {
   "cell_type": "markdown",
   "metadata": {},
   "source": [
    "Dense 实现以下操作： output = activation(dot(input, kernel) + bias)：\n",
    "* kernel 是由网络层创建的权值矩阵\n",
    "* bias 是其创建的偏置向量\n",
    "* activation 是按逐个元素计算的激活函数"
   ]
  },
  {
   "cell_type": "code",
   "execution_count": 43,
   "metadata": {},
   "outputs": [],
   "source": [
    "class SimpleDense(tf.keras.layers.Layer):\n",
    "    \"\"\"要实现一个自己的Layer，首先继承tf.keras.Layer\"\"\"\n",
    "    \n",
    "    def __init__(self, units=32, activation=tf.keras.activations.relu):\n",
    "        \"\"\"在这里实现跟输入数据无关的初始化，units是输出单元个数\"\"\"\n",
    "        super(SimpleDense, self).__init__()\n",
    "        self.units = units\n",
    "        self.activation = activation\n",
    "\n",
    "    def build(self, input_shape):\n",
    "        \"\"\"这里你已经知道了输入shape，做一些其它初始化\"\"\"\n",
    "        w_init = tf.random_normal_initializer()\n",
    "        self.w = tf.Variable(initial_value=w_init(shape=(input_shape[-1], self.units), dtype='float32'), trainable=True)\n",
    "        \n",
    "        b_init = tf.zeros_initializer()\n",
    "        self.b = tf.Variable(initial_value=b_init(shape=(self.units,), dtype='float32'), trainable=True)\n",
    "\n",
    "    def call(self, inputs):\n",
    "        \"\"\"在这里执行真正的计算，m*n @ n*k = m*k\"\"\"\n",
    "        return self.activation(tf.matmul(inputs, self.w) + self.b)"
   ]
  },
  {
   "cell_type": "code",
   "execution_count": 51,
   "metadata": {},
   "outputs": [],
   "source": [
    "simpleDense = SimpleDense(3)"
   ]
  },
  {
   "cell_type": "code",
   "execution_count": 53,
   "metadata": {},
   "outputs": [
    {
     "data": {
      "text/plain": [
       "<tf.Tensor: shape=(5, 6), dtype=float32, numpy=\n",
       "array([[0.06161439, 0.7191465 , 0.1545825 , 0.16470063, 0.06547856,\n",
       "        0.21040511],\n",
       "       [0.2781508 , 0.7318287 , 0.5919299 , 0.26639056, 0.80865145,\n",
       "        0.7942685 ],\n",
       "       [0.34744048, 0.37250328, 0.21621656, 0.51457405, 0.60886   ,\n",
       "        0.0174216 ],\n",
       "       [0.27336884, 0.71564376, 0.89730585, 0.4243747 , 0.8281088 ,\n",
       "        0.00354564],\n",
       "       [0.76451397, 0.11986911, 0.72742057, 0.72026324, 0.06275392,\n",
       "        0.8452655 ]], dtype=float32)>"
      ]
     },
     "execution_count": 53,
     "metadata": {},
     "output_type": "execute_result"
    }
   ],
   "source": [
    "# 输入数据\n",
    "inputs = tf.random.uniform(shape=(5, 6))\n",
    "inputs"
   ]
  },
  {
   "cell_type": "code",
   "execution_count": 54,
   "metadata": {},
   "outputs": [
    {
     "data": {
      "text/plain": [
       "<tf.Tensor: shape=(5, 3), dtype=float32, numpy=\n",
       "array([[0.01784793, 0.        , 0.        ],\n",
       "       [0.08669916, 0.        , 0.02141117],\n",
       "       [0.08414076, 0.        , 0.01096328],\n",
       "       [0.15599981, 0.        , 0.06040027],\n",
       "       [0.06128041, 0.        , 0.05446933]], dtype=float32)>"
      ]
     },
     "execution_count": 54,
     "metadata": {},
     "output_type": "execute_result"
    }
   ],
   "source": [
    "simpleDense(inputs)"
   ]
  }
 ],
 "metadata": {
  "kernelspec": {
   "display_name": "Python 3",
   "language": "python",
   "name": "python3"
  },
  "language_info": {
   "codemirror_mode": {
    "name": "ipython",
    "version": 3
   },
   "file_extension": ".py",
   "mimetype": "text/x-python",
   "name": "python",
   "nbconvert_exporter": "python",
   "pygments_lexer": "ipython3",
   "version": "3.7.7"
  }
 },
 "nbformat": 4,
 "nbformat_minor": 4
}
