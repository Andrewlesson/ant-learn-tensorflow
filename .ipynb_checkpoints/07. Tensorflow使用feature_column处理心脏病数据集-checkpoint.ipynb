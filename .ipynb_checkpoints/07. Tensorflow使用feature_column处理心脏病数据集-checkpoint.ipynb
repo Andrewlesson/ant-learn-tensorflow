{
 "cells": [
  {
   "cell_type": "markdown",
   "metadata": {
    "colab_type": "text",
    "id": "rNdWfPXCjTjY"
   },
   "source": [
    "## Tensorflow使用feature_column处理心脏病数据集"
   ]
  },
  {
   "cell_type": "markdown",
   "metadata": {},
   "source": [
    "### 演示流程：\n",
    "\n",
    "1. 用Pandas导入 CSV 文件。\n",
    "2. 用tf.dataset读取数据，进行分批（batch）、随机排序（shuffle）处理\n",
    "3. 用feature_column将 CSV 中的列映射到用于训练模型的特征\n",
    "4. 用 Keras 构建，训练并评估模型"
   ]
  },
  {
   "cell_type": "markdown",
   "metadata": {
    "colab_type": "text",
    "id": "K1y4OHpGgss7"
   },
   "source": [
    "### 心脏病数据集\n",
    "\n",
    "有几百行数据，每行描述了一个病人（patient），每列描述了一个属性（attribute）。\n",
    "\n",
    "我们将使用这些信息来预测一位病人是否患有心脏病，这是在该数据集上的二分类任务。\n",
    "\n",
    "数据集描述，注意里面有数字Numerical，也有分类Categorical：\n",
    "\n",
    ">列| 描述| 特征类型 | 数据类型\n",
    ">------------|--------------------|----------------------|-----------------\n",
    ">Age | 年龄以年为单位 | Numerical | integer\n",
    ">Sex | （1 = 男；0 = 女） | Categorical | integer\n",
    ">CP | 胸痛类型（0，1，2，3，4）| Categorical | integer\n",
    ">Trestbpd | 静息血压（入院时，以mm Hg计） | Numerical | integer\n",
    ">Chol | 血清胆固醇（mg/dl） | Numerical | integer\n",
    ">FBS |（空腹血糖> 120 mg/dl）（1 = true；0 = false）| Categorical | integer\n",
    ">RestECG | 静息心电图结果（0，1，2）| Categorical | integer\n",
    ">Thalach | 达到的最大心率 | Numerical | integer\n",
    ">Exang | 运动诱发心绞痛（1 =是；0 =否）| Categorical | integer\n",
    ">Oldpeak | 与休息时相比由运动引起的 ST 节段下降|Numerical | integer\n",
    ">Slope | 在运动高峰 ST 段的斜率 | Numerical | float\n",
    ">CA | 荧光透视法染色的大血管动脉（0-3）的数量 | Numerical | integer\n",
    ">Thal | 3 =正常；6 =固定缺陷；7 =可逆缺陷 | Categorical | string\n",
    ">Target | 心脏病诊断（1 = true；0 = false） | Classification | integer"
   ]
  },
  {
   "cell_type": "markdown",
   "metadata": {
    "colab_type": "text",
    "id": "VxyBFc_kKazA"
   },
   "source": [
    "### 1. 导入 TensorFlow 和其他库"
   ]
  },
  {
   "cell_type": "code",
   "execution_count": 1,
   "metadata": {
    "colab": {},
    "colab_type": "code",
    "id": "9dEreb4QKizj"
   },
   "outputs": [],
   "source": [
    "import numpy as np\n",
    "import pandas as pd\n",
    "\n",
    "import tensorflow as tf\n",
    "\n",
    "from tensorflow import feature_column\n",
    "from tensorflow.keras import layers\n",
    "from sklearn.model_selection import train_test_split"
   ]
  },
  {
   "cell_type": "markdown",
   "metadata": {
    "colab_type": "text",
    "id": "KCEhSZcULZ9n"
   },
   "source": [
    "## 2. 使用 Pandas 创建一个 dataframe"
   ]
  },
  {
   "cell_type": "code",
   "execution_count": 2,
   "metadata": {
    "colab": {},
    "colab_type": "code",
    "id": "REZ57BXCLdfG"
   },
   "outputs": [
    {
     "data": {
      "text/html": [
       "<div>\n",
       "<style scoped>\n",
       "    .dataframe tbody tr th:only-of-type {\n",
       "        vertical-align: middle;\n",
       "    }\n",
       "\n",
       "    .dataframe tbody tr th {\n",
       "        vertical-align: top;\n",
       "    }\n",
       "\n",
       "    .dataframe thead th {\n",
       "        text-align: right;\n",
       "    }\n",
       "</style>\n",
       "<table border=\"1\" class=\"dataframe\">\n",
       "  <thead>\n",
       "    <tr style=\"text-align: right;\">\n",
       "      <th></th>\n",
       "      <th>age</th>\n",
       "      <th>sex</th>\n",
       "      <th>cp</th>\n",
       "      <th>trestbps</th>\n",
       "      <th>chol</th>\n",
       "      <th>fbs</th>\n",
       "      <th>restecg</th>\n",
       "      <th>thalach</th>\n",
       "      <th>exang</th>\n",
       "      <th>oldpeak</th>\n",
       "      <th>slope</th>\n",
       "      <th>ca</th>\n",
       "      <th>thal</th>\n",
       "      <th>target</th>\n",
       "    </tr>\n",
       "  </thead>\n",
       "  <tbody>\n",
       "    <tr>\n",
       "      <th>0</th>\n",
       "      <td>63</td>\n",
       "      <td>1</td>\n",
       "      <td>1</td>\n",
       "      <td>145</td>\n",
       "      <td>233</td>\n",
       "      <td>1</td>\n",
       "      <td>2</td>\n",
       "      <td>150</td>\n",
       "      <td>0</td>\n",
       "      <td>2.3</td>\n",
       "      <td>3</td>\n",
       "      <td>0</td>\n",
       "      <td>fixed</td>\n",
       "      <td>0</td>\n",
       "    </tr>\n",
       "    <tr>\n",
       "      <th>1</th>\n",
       "      <td>67</td>\n",
       "      <td>1</td>\n",
       "      <td>4</td>\n",
       "      <td>160</td>\n",
       "      <td>286</td>\n",
       "      <td>0</td>\n",
       "      <td>2</td>\n",
       "      <td>108</td>\n",
       "      <td>1</td>\n",
       "      <td>1.5</td>\n",
       "      <td>2</td>\n",
       "      <td>3</td>\n",
       "      <td>normal</td>\n",
       "      <td>1</td>\n",
       "    </tr>\n",
       "    <tr>\n",
       "      <th>2</th>\n",
       "      <td>67</td>\n",
       "      <td>1</td>\n",
       "      <td>4</td>\n",
       "      <td>120</td>\n",
       "      <td>229</td>\n",
       "      <td>0</td>\n",
       "      <td>2</td>\n",
       "      <td>129</td>\n",
       "      <td>1</td>\n",
       "      <td>2.6</td>\n",
       "      <td>2</td>\n",
       "      <td>2</td>\n",
       "      <td>reversible</td>\n",
       "      <td>0</td>\n",
       "    </tr>\n",
       "    <tr>\n",
       "      <th>3</th>\n",
       "      <td>37</td>\n",
       "      <td>1</td>\n",
       "      <td>3</td>\n",
       "      <td>130</td>\n",
       "      <td>250</td>\n",
       "      <td>0</td>\n",
       "      <td>0</td>\n",
       "      <td>187</td>\n",
       "      <td>0</td>\n",
       "      <td>3.5</td>\n",
       "      <td>3</td>\n",
       "      <td>0</td>\n",
       "      <td>normal</td>\n",
       "      <td>0</td>\n",
       "    </tr>\n",
       "    <tr>\n",
       "      <th>4</th>\n",
       "      <td>41</td>\n",
       "      <td>0</td>\n",
       "      <td>2</td>\n",
       "      <td>130</td>\n",
       "      <td>204</td>\n",
       "      <td>0</td>\n",
       "      <td>2</td>\n",
       "      <td>172</td>\n",
       "      <td>0</td>\n",
       "      <td>1.4</td>\n",
       "      <td>1</td>\n",
       "      <td>0</td>\n",
       "      <td>normal</td>\n",
       "      <td>0</td>\n",
       "    </tr>\n",
       "  </tbody>\n",
       "</table>\n",
       "</div>"
      ],
      "text/plain": [
       "   age  sex  cp  trestbps  chol  fbs  restecg  thalach  exang  oldpeak  slope  \\\n",
       "0   63    1   1       145   233    1        2      150      0      2.3      3   \n",
       "1   67    1   4       160   286    0        2      108      1      1.5      2   \n",
       "2   67    1   4       120   229    0        2      129      1      2.6      2   \n",
       "3   37    1   3       130   250    0        0      187      0      3.5      3   \n",
       "4   41    0   2       130   204    0        2      172      0      1.4      1   \n",
       "\n",
       "   ca        thal  target  \n",
       "0   0       fixed       0  \n",
       "1   3      normal       1  \n",
       "2   2  reversible       0  \n",
       "3   0      normal       0  \n",
       "4   0      normal       0  "
      ]
     },
     "execution_count": 2,
     "metadata": {},
     "output_type": "execute_result"
    }
   ],
   "source": [
    "df = pd.read_csv(\"./datas/heart/heart.csv\")\n",
    "df.head()"
   ]
  },
  {
   "cell_type": "markdown",
   "metadata": {
    "colab_type": "text",
    "id": "u0zhLtQqMPem"
   },
   "source": [
    "### 3. 将 dataframe 拆分为训练、验证和测试集"
   ]
  },
  {
   "cell_type": "code",
   "execution_count": 4,
   "metadata": {
    "colab": {},
    "colab_type": "code",
    "id": "YEOpw7LhMYsI"
   },
   "outputs": [
    {
     "name": "stdout",
     "output_type": "stream",
     "text": [
      "193 测试集数目\n",
      "49 验证集数目\n",
      "61 测试集数目\n"
     ]
    }
   ],
   "source": [
    "train, test = train_test_split(df, test_size=0.2)\n",
    "train, val = train_test_split(train, test_size=0.2)\n",
    "print(len(train), '测试集数目')\n",
    "print(len(val), '验证集数目')\n",
    "print(len(test), '测试集数目')"
   ]
  },
  {
   "cell_type": "markdown",
   "metadata": {
    "colab_type": "text",
    "id": "84ef46LXMfvu"
   },
   "source": [
    "## 4. 用tf.data.Dataset读取数据"
   ]
  },
  {
   "cell_type": "code",
   "execution_count": 12,
   "metadata": {
    "colab": {},
    "colab_type": "code",
    "id": "NkcaMYP-MsRe"
   },
   "outputs": [],
   "source": [
    "def df_to_dataset(df, shuffle=True, batch_size=32):\n",
    "    df = df.copy()\n",
    "    labels = df.pop('target')\n",
    "    ds = tf.data.Dataset.from_tensor_slices((dict(df), labels))\n",
    "    if shuffle:\n",
    "        ds = ds.shuffle(buffer_size=len(df))\n",
    "    ds = ds.batch(batch_size)\n",
    "    return ds"
   ]
  },
  {
   "cell_type": "code",
   "execution_count": 13,
   "metadata": {
    "colab": {},
    "colab_type": "code",
    "id": "CXbbXkJvMy34"
   },
   "outputs": [],
   "source": [
    "batch_size = 5\n",
    "train_ds = df_to_dataset(train, batch_size=batch_size)\n",
    "val_ds = df_to_dataset(val, shuffle=False, batch_size=batch_size)\n",
    "test_ds = df_to_dataset(test, shuffle=False, batch_size=batch_size)"
   ]
  },
  {
   "cell_type": "code",
   "execution_count": 17,
   "metadata": {
    "colab": {},
    "colab_type": "code",
    "id": "CSBo3dUVNFc9"
   },
   "outputs": [
    {
     "name": "stdout",
     "output_type": "stream",
     "text": [
      "{'age': <tf.Tensor: shape=(5,), dtype=int64, numpy=array([46, 52, 70, 46, 58])>, 'sex': <tf.Tensor: shape=(5,), dtype=int64, numpy=array([1, 1, 1, 0, 0])>, 'cp': <tf.Tensor: shape=(5,), dtype=int64, numpy=array([4, 2, 4, 4, 1])>, 'trestbps': <tf.Tensor: shape=(5,), dtype=int64, numpy=array([140, 120, 130, 138, 150])>, 'chol': <tf.Tensor: shape=(5,), dtype=int64, numpy=array([311, 325, 322, 243, 283])>, 'fbs': <tf.Tensor: shape=(5,), dtype=int64, numpy=array([0, 0, 0, 0, 1])>, 'restecg': <tf.Tensor: shape=(5,), dtype=int64, numpy=array([0, 0, 2, 2, 2])>, 'thalach': <tf.Tensor: shape=(5,), dtype=int64, numpy=array([120, 172, 109, 152, 162])>, 'exang': <tf.Tensor: shape=(5,), dtype=int64, numpy=array([1, 0, 0, 1, 0])>, 'oldpeak': <tf.Tensor: shape=(5,), dtype=float64, numpy=array([1.8, 0.2, 2.4, 0. , 1. ])>, 'slope': <tf.Tensor: shape=(5,), dtype=int64, numpy=array([2, 1, 2, 2, 1])>, 'ca': <tf.Tensor: shape=(5,), dtype=int64, numpy=array([2, 0, 3, 0, 0])>, 'thal': <tf.Tensor: shape=(5,), dtype=string, numpy=\n",
      "array([b'reversible', b'normal', b'normal', b'normal', b'normal'],\n",
      "      dtype=object)>}\n",
      "\n",
      "tf.Tensor([1 0 0 0 0], shape=(5,), dtype=int64)\n"
     ]
    }
   ],
   "source": [
    "# 测试下数据集\n",
    "for feature_batch, label_batch in train_ds.take(1):\n",
    "    print(feature_batch)\n",
    "    print()\n",
    "    print(label_batch)"
   ]
  },
  {
   "cell_type": "markdown",
   "metadata": {
    "colab_type": "text",
    "id": "ypkI9zx6Rj1q"
   },
   "source": [
    "### 5. feature_column特征处理\n"
   ]
  },
  {
   "cell_type": "code",
   "execution_count": 20,
   "metadata": {
    "colab": {},
    "colab_type": "code",
    "id": "4PlLY7fORuzA"
   },
   "outputs": [],
   "source": [
    "feature_columns = []\n",
    "\n",
    "# 数值列\n",
    "for header in ['age', 'trestbps', 'chol', 'thalach', 'oldpeak', 'slope', 'ca']:\n",
    "    feature_columns.append(feature_column.numeric_column(header))\n",
    "\n",
    "# 分桶列\n",
    "age = feature_column.numeric_column(\"age\")\n",
    "age_buckets = feature_column.bucketized_column(age, boundaries=[18, 25, 30, 35, 40, 45, 50, 55, 60, 65])\n",
    "feature_columns.append(age_buckets)\n",
    "\n",
    "# 分类列\n",
    "thal = feature_column.categorical_column_with_vocabulary_list(\n",
    "    'thal', ['fixed', 'normal', 'reversible'])\n",
    "thal_one_hot = feature_column.indicator_column(thal)\n",
    "feature_columns.append(thal_one_hot)\n",
    "\n",
    "# 嵌入列\n",
    "thal_embedding = feature_column.embedding_column(thal, dimension=8)\n",
    "feature_columns.append(thal_embedding)\n",
    "\n",
    "# 组合列\n",
    "crossed_feature = feature_column.crossed_column([age_buckets, thal], hash_bucket_size=1000)\n",
    "crossed_feature = feature_column.indicator_column(crossed_feature)\n",
    "feature_columns.append(crossed_feature)"
   ]
  },
  {
   "cell_type": "markdown",
   "metadata": {
    "colab_type": "text",
    "id": "bBx4Xu0eTXWq"
   },
   "source": [
    "### 6. 创建，编译和训练模型"
   ]
  },
  {
   "cell_type": "code",
   "execution_count": 22,
   "metadata": {
    "colab": {},
    "colab_type": "code",
    "id": "_YJPPb3xTPeZ"
   },
   "outputs": [
    {
     "name": "stdout",
     "output_type": "stream",
     "text": [
      "Epoch 1/30\n",
      "WARNING:tensorflow:Layer dense_features_1 is casting an input tensor from dtype float64 to the layer's dtype of float32, which is new behavior in TensorFlow 2.  The layer has dtype float32 because it's dtype defaults to floatx.\n",
      "\n",
      "If you intended to run this layer in float32, you can safely ignore this warning. If in doubt, this warning is likely only an issue if you are porting a TensorFlow 1.X model to TensorFlow 2.\n",
      "\n",
      "To change all layers to have dtype float64 by default, call `tf.keras.backend.set_floatx('float64')`. To change just this layer, pass dtype='float64' to the layer constructor. If you are the author of this layer, you can disable autocasting by passing autocast=False to the base Layer constructor.\n",
      "\n",
      "39/39 [==============================] - 0s 8ms/step - loss: 1.0402 - accuracy: 0.6891 - val_loss: 0.6967 - val_accuracy: 0.6531\n",
      "Epoch 2/30\n",
      "39/39 [==============================] - 0s 2ms/step - loss: 0.5514 - accuracy: 0.7668 - val_loss: 0.6243 - val_accuracy: 0.7347\n",
      "Epoch 3/30\n",
      "39/39 [==============================] - 0s 2ms/step - loss: 0.6899 - accuracy: 0.7461 - val_loss: 0.7041 - val_accuracy: 0.7143\n",
      "Epoch 4/30\n",
      "39/39 [==============================] - 0s 2ms/step - loss: 0.5193 - accuracy: 0.7565 - val_loss: 0.8672 - val_accuracy: 0.7143\n",
      "Epoch 5/30\n",
      "39/39 [==============================] - 0s 2ms/step - loss: 0.5272 - accuracy: 0.7720 - val_loss: 1.1191 - val_accuracy: 0.7143\n",
      "Epoch 6/30\n",
      "39/39 [==============================] - 0s 2ms/step - loss: 0.7473 - accuracy: 0.7150 - val_loss: 0.5717 - val_accuracy: 0.7551\n",
      "Epoch 7/30\n",
      "39/39 [==============================] - 0s 2ms/step - loss: 0.4490 - accuracy: 0.7824 - val_loss: 0.8656 - val_accuracy: 0.7143\n",
      "Epoch 8/30\n",
      "39/39 [==============================] - 0s 2ms/step - loss: 0.5888 - accuracy: 0.7513 - val_loss: 0.4486 - val_accuracy: 0.7755\n",
      "Epoch 9/30\n",
      "39/39 [==============================] - 0s 2ms/step - loss: 0.5310 - accuracy: 0.7461 - val_loss: 0.4777 - val_accuracy: 0.7551\n",
      "Epoch 10/30\n",
      "39/39 [==============================] - 0s 2ms/step - loss: 0.3976 - accuracy: 0.8083 - val_loss: 0.4540 - val_accuracy: 0.7551\n",
      "Epoch 11/30\n",
      "39/39 [==============================] - 0s 2ms/step - loss: 0.3625 - accuracy: 0.8083 - val_loss: 0.4524 - val_accuracy: 0.7755\n",
      "Epoch 12/30\n",
      "39/39 [==============================] - 0s 2ms/step - loss: 0.3574 - accuracy: 0.8342 - val_loss: 0.4378 - val_accuracy: 0.7959\n",
      "Epoch 13/30\n",
      "39/39 [==============================] - 0s 2ms/step - loss: 0.3513 - accuracy: 0.8238 - val_loss: 0.7415 - val_accuracy: 0.7143\n",
      "Epoch 14/30\n",
      "39/39 [==============================] - 0s 2ms/step - loss: 0.4157 - accuracy: 0.7927 - val_loss: 0.8108 - val_accuracy: 0.7347\n",
      "Epoch 15/30\n",
      "39/39 [==============================] - 0s 2ms/step - loss: 0.4077 - accuracy: 0.7668 - val_loss: 0.4319 - val_accuracy: 0.7959\n",
      "Epoch 16/30\n",
      "39/39 [==============================] - 0s 2ms/step - loss: 0.3839 - accuracy: 0.7927 - val_loss: 0.4874 - val_accuracy: 0.7755\n",
      "Epoch 17/30\n",
      "39/39 [==============================] - 0s 2ms/step - loss: 0.3613 - accuracy: 0.8290 - val_loss: 0.4323 - val_accuracy: 0.8163\n",
      "Epoch 18/30\n",
      "39/39 [==============================] - 0s 2ms/step - loss: 0.3840 - accuracy: 0.7668 - val_loss: 0.4519 - val_accuracy: 0.7755\n",
      "Epoch 19/30\n",
      "39/39 [==============================] - 0s 2ms/step - loss: 0.3475 - accuracy: 0.8342 - val_loss: 0.5032 - val_accuracy: 0.7551\n",
      "Epoch 20/30\n",
      "39/39 [==============================] - 0s 2ms/step - loss: 0.3942 - accuracy: 0.7876 - val_loss: 0.4798 - val_accuracy: 0.7959\n",
      "Epoch 21/30\n",
      "39/39 [==============================] - 0s 2ms/step - loss: 0.3494 - accuracy: 0.8083 - val_loss: 0.4035 - val_accuracy: 0.8163\n",
      "Epoch 22/30\n",
      "39/39 [==============================] - 0s 2ms/step - loss: 0.3522 - accuracy: 0.8342 - val_loss: 0.4138 - val_accuracy: 0.8367\n",
      "Epoch 23/30\n",
      "39/39 [==============================] - 0s 2ms/step - loss: 0.3368 - accuracy: 0.8290 - val_loss: 0.4390 - val_accuracy: 0.7959\n",
      "Epoch 24/30\n",
      "39/39 [==============================] - 0s 2ms/step - loss: 0.3209 - accuracy: 0.8756 - val_loss: 0.6223 - val_accuracy: 0.7551\n",
      "Epoch 25/30\n",
      "39/39 [==============================] - 0s 2ms/step - loss: 0.4149 - accuracy: 0.7720 - val_loss: 0.4552 - val_accuracy: 0.8163\n",
      "Epoch 26/30\n",
      "39/39 [==============================] - 0s 2ms/step - loss: 0.3604 - accuracy: 0.8135 - val_loss: 0.4964 - val_accuracy: 0.7959\n",
      "Epoch 27/30\n",
      "39/39 [==============================] - 0s 2ms/step - loss: 0.3498 - accuracy: 0.8187 - val_loss: 0.4309 - val_accuracy: 0.7959\n",
      "Epoch 28/30\n",
      "39/39 [==============================] - 0s 2ms/step - loss: 0.3378 - accuracy: 0.8446 - val_loss: 0.4754 - val_accuracy: 0.7551\n",
      "Epoch 29/30\n",
      "39/39 [==============================] - 0s 2ms/step - loss: 0.3392 - accuracy: 0.8135 - val_loss: 0.4505 - val_accuracy: 0.7959\n",
      "Epoch 30/30\n",
      "39/39 [==============================] - 0s 2ms/step - loss: 0.3410 - accuracy: 0.8497 - val_loss: 0.4776 - val_accuracy: 0.8163\n"
     ]
    },
    {
     "data": {
      "text/plain": [
       "<tensorflow.python.keras.callbacks.History at 0x7fe1a44dd0d0>"
      ]
     },
     "execution_count": 22,
     "metadata": {},
     "output_type": "execute_result"
    }
   ],
   "source": [
    "model = tf.keras.Sequential([\n",
    "    layers.DenseFeatures(feature_columns),\n",
    "    layers.Dense(128, activation='relu'),\n",
    "    layers.Dense(128, activation='relu'),\n",
    "    layers.Dense(1, activation='sigmoid')\n",
    "])\n",
    "\n",
    "model.compile(optimizer='adam',\n",
    "              loss='binary_crossentropy',\n",
    "              metrics=['accuracy'])\n",
    "\n",
    "model.fit(train_ds,\n",
    "          validation_data=val_ds,\n",
    "          epochs=30)"
   ]
  },
  {
   "cell_type": "code",
   "execution_count": 23,
   "metadata": {
    "colab": {},
    "colab_type": "code",
    "id": "GnFmMOW0Tcaa"
   },
   "outputs": [
    {
     "name": "stdout",
     "output_type": "stream",
     "text": [
      "13/13 [==============================] - 0s 1ms/step - loss: 0.5343 - accuracy: 0.7213\n",
      "Accuracy 0.7213114500045776\n"
     ]
    }
   ],
   "source": [
    "loss, accuracy = model.evaluate(test_ds)\n",
    "print(\"Accuracy\", accuracy)"
   ]
  }
 ],
 "metadata": {
  "colab": {
   "collapsed_sections": [],
   "name": "feature_columns.ipynb",
   "private_outputs": true,
   "provenance": [],
   "toc_visible": true,
   "version": "0.3.2"
  },
  "kernelspec": {
   "display_name": "Python 3",
   "language": "python",
   "name": "python3"
  },
  "language_info": {
   "codemirror_mode": {
    "name": "ipython",
    "version": 3
   },
   "file_extension": ".py",
   "mimetype": "text/x-python",
   "name": "python",
   "nbconvert_exporter": "python",
   "pygments_lexer": "ipython3",
   "version": "3.7.7"
  }
 },
 "nbformat": 4,
 "nbformat_minor": 1
}
