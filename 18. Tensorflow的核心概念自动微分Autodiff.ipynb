{
 "cells": [
  {
   "cell_type": "markdown",
   "metadata": {},
   "source": [
    "## Tensorflow的核心概念自动微分Autodiff"
   ]
  },
  {
   "cell_type": "code",
   "execution_count": 1,
   "metadata": {},
   "outputs": [],
   "source": [
    "import tensorflow as tf"
   ]
  },
  {
   "cell_type": "markdown",
   "metadata": {},
   "source": [
    "### 1. 简单的求导"
   ]
  },
  {
   "cell_type": "markdown",
   "metadata": {},
   "source": [
    "对于公式：y = $x^2$ + 4x，求y对x的导数，即y=2x+4"
   ]
  },
  {
   "cell_type": "code",
   "execution_count": 2,
   "metadata": {},
   "outputs": [
    {
     "name": "stdout",
     "output_type": "stream",
     "text": [
      "tf.Tensor(10.0, shape=(), dtype=float32)\n"
     ]
    }
   ],
   "source": [
    "x = tf.Variable(3.)\n",
    "\n",
    "with tf.GradientTape() as t:\n",
    "    y = x*x + 4*x\n",
    "\n",
    "# 导数应该是：2*x + 4 = 2*3 + 4 = 9\n",
    "dy_dx = t.gradient(y, x)\n",
    "print(dy_dx)"
   ]
  },
  {
   "cell_type": "markdown",
   "metadata": {},
   "source": [
    "### 2. 在模型中的使用"
   ]
  },
  {
   "cell_type": "markdown",
   "metadata": {},
   "source": [
    "#### 构造数据"
   ]
  },
  {
   "cell_type": "code",
   "execution_count": 3,
   "metadata": {},
   "outputs": [
    {
     "name": "stdout",
     "output_type": "stream",
     "text": [
      "(3, 4) (3,)\n"
     ]
    }
   ],
   "source": [
    "import numpy as np\n",
    "\n",
    "features = np.array([\n",
    "    [1,2,3,4],\n",
    "    [5,6,7,8],\n",
    "    [9,10,11,12]\n",
    "])\n",
    "\n",
    "labels = np.array([1, 0, 1])\n",
    "\n",
    "print(features.shape, labels.shape)"
   ]
  },
  {
   "cell_type": "markdown",
   "metadata": {},
   "source": [
    "#### 搭建一个model"
   ]
  },
  {
   "cell_type": "code",
   "execution_count": 4,
   "metadata": {},
   "outputs": [],
   "source": [
    "model = tf.keras.Sequential(\n",
    "    [\n",
    "        tf.keras.layers.Dense(3, input_shape=(4,)),\n",
    "        tf.keras.layers.Dense(1, activation=\"sigmoid\")\n",
    "    ]\n",
    ")"
   ]
  },
  {
   "cell_type": "code",
   "execution_count": 5,
   "metadata": {},
   "outputs": [
    {
     "data": {
      "text/plain": [
       "[<tf.Variable 'dense/kernel:0' shape=(4, 3) dtype=float32, numpy=\n",
       " array([[-0.6656144 , -0.42939597,  0.07242769],\n",
       "        [ 0.19940329, -0.5502339 , -0.87196594],\n",
       "        [-0.5693209 , -0.59339136, -0.547462  ],\n",
       "        [ 0.48374104,  0.4053948 ,  0.91519713]], dtype=float32)>,\n",
       " <tf.Variable 'dense/bias:0' shape=(3,) dtype=float32, numpy=array([0., 0., 0.], dtype=float32)>,\n",
       " <tf.Variable 'dense_1/kernel:0' shape=(3, 1) dtype=float32, numpy=\n",
       " array([[-0.44360936],\n",
       "        [-0.159796  ],\n",
       "        [ 0.30311763]], dtype=float32)>,\n",
       " <tf.Variable 'dense_1/bias:0' shape=(1,) dtype=float32, numpy=array([0.], dtype=float32)>]"
      ]
     },
     "execution_count": 5,
     "metadata": {},
     "output_type": "execute_result"
    }
   ],
   "source": [
    "# 待更新的参数，已经进行了初始化\n",
    "model.trainable_weights"
   ]
  },
  {
   "cell_type": "markdown",
   "metadata": {},
   "source": [
    "#### 自动计算微分更新参数"
   ]
  },
  {
   "cell_type": "code",
   "execution_count": 6,
   "metadata": {},
   "outputs": [],
   "source": [
    "# loss function \n",
    "loss_func=tf.keras.losses.BinaryCrossentropy()"
   ]
  },
  {
   "cell_type": "code",
   "execution_count": 7,
   "metadata": {},
   "outputs": [
    {
     "name": "stdout",
     "output_type": "stream",
     "text": [
      "logits:\n",
      " tf.Tensor(\n",
      "[[0.5969129 ]\n",
      " [0.8312506 ]\n",
      " [0.94248176]], shape=(3, 1), dtype=float32)\n",
      "\n",
      "loss_value:\n",
      " tf.Tensor(0.784854, shape=(), dtype=float32)\n"
     ]
    }
   ],
   "source": [
    "with tf.GradientTape(persistent=True) as tape:\n",
    "    # 对于features，经过model计算，输出logits\n",
    "    logits = model(features)\n",
    "    print(\"logits:\\n\", logits)\n",
    "    \n",
    "    loss_value = loss_func(labels, logits)\n",
    "    print()\n",
    "    print(\"loss_value:\\n\", loss_value)"
   ]
  },
  {
   "cell_type": "code",
   "execution_count": 8,
   "metadata": {},
   "outputs": [
    {
     "data": {
      "text/plain": [
       "[<tf.Tensor: shape=(4, 3), dtype=float32, numpy=\n",
       " array([[-0.4784321 , -0.17233977,  0.32691196],\n",
       "        [-0.53323925, -0.19208227,  0.36436158],\n",
       "        [-0.5880464 , -0.21182479,  0.40181124],\n",
       "        [-0.6428535 , -0.2315673 ,  0.43926087]], dtype=float32)>,\n",
       " <tf.Tensor: shape=(3,), dtype=float32, numpy=array([-0.05480713, -0.01974251,  0.03744964], dtype=float32)>,\n",
       " <tf.Tensor: shape=(3, 1), dtype=float32, numpy=\n",
       " array([[-0.5318511 ],\n",
       "        [-1.3236315 ],\n",
       "        [-0.36949193]], dtype=float32)>,\n",
       " <tf.Tensor: shape=(1,), dtype=float32, numpy=array([0.12354819], dtype=float32)>]"
      ]
     },
     "execution_count": 8,
     "metadata": {},
     "output_type": "execute_result"
    }
   ],
   "source": [
    "# 计算梯度，\n",
    "gradients = tape.gradient(loss_value, model.trainable_weights)\n",
    "gradients"
   ]
  },
  {
   "cell_type": "markdown",
   "metadata": {},
   "source": [
    "#### 使用计算的梯度更新模型的参数"
   ]
  },
  {
   "cell_type": "code",
   "execution_count": 9,
   "metadata": {},
   "outputs": [
    {
     "data": {
      "text/plain": [
       "<tf.Variable 'UnreadVariable' shape=() dtype=int64, numpy=1>"
      ]
     },
     "execution_count": 9,
     "metadata": {},
     "output_type": "execute_result"
    }
   ],
   "source": [
    "# 使用优化器，给变量model.trainable_weights应用梯度\n",
    "optimizer = tf.keras.optimizers.Adam()\n",
    "optimizer.apply_gradients(zip(gradients, model.trainable_weights))"
   ]
  },
  {
   "cell_type": "code",
   "execution_count": 10,
   "metadata": {},
   "outputs": [
    {
     "data": {
      "text/plain": [
       "[<tf.Variable 'dense/kernel:0' shape=(4, 3) dtype=float32, numpy=\n",
       " array([[-0.66461444, -0.428396  ,  0.0714277 ],\n",
       "        [ 0.20040327, -0.5492339 , -0.87296593],\n",
       "        [-0.56832093, -0.5923914 , -0.548462  ],\n",
       "        [ 0.48474103,  0.40639478,  0.91419715]], dtype=float32)>,\n",
       " <tf.Variable 'dense/bias:0' shape=(3,) dtype=float32, numpy=array([ 0.00099994,  0.00099984, -0.00099992], dtype=float32)>,\n",
       " <tf.Variable 'dense_1/kernel:0' shape=(3, 1) dtype=float32, numpy=\n",
       " array([[-0.44260937],\n",
       "        [-0.158796  ],\n",
       "        [ 0.30411762]], dtype=float32)>,\n",
       " <tf.Variable 'dense_1/bias:0' shape=(1,) dtype=float32, numpy=array([-0.00099997], dtype=float32)>]"
      ]
     },
     "execution_count": 10,
     "metadata": {},
     "output_type": "execute_result"
    }
   ],
   "source": [
    "# 模型参数，我们会看到进行了更新\n",
    "model.trainable_weights"
   ]
  },
  {
   "cell_type": "code",
   "execution_count": null,
   "metadata": {},
   "outputs": [],
   "source": []
  }
 ],
 "metadata": {
  "kernelspec": {
   "display_name": "Python 3",
   "language": "python",
   "name": "python3"
  },
  "language_info": {
   "codemirror_mode": {
    "name": "ipython",
    "version": 3
   },
   "file_extension": ".py",
   "mimetype": "text/x-python",
   "name": "python",
   "nbconvert_exporter": "python",
   "pygments_lexer": "ipython3",
   "version": "3.7.6"
  }
 },
 "nbformat": 4,
 "nbformat_minor": 4
}
